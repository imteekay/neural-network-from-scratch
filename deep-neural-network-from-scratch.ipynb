{
 "cells": [
  {
   "cell_type": "markdown",
   "metadata": {},
   "source": [
    "# Neural Network from scratch"
   ]
  },
  {
   "cell_type": "code",
   "execution_count": null,
   "metadata": {
    "_cell_guid": "b1076dfc-b9ad-4769-8c92-a6c4dae69d19",
    "_uuid": "8f2839f25d086af736a60e9eeb907d3b93b6e0e5",
    "execution": {
     "iopub.status.busy": "2024-11-16T21:49:48.744521Z",
     "iopub.status.idle": "2024-11-16T21:49:48.745052Z",
     "shell.execute_reply": "2024-11-16T21:49:48.744796Z"
    },
    "trusted": true
   },
   "outputs": [],
   "source": [
    "import numpy as np\n",
    "import pandas as pd\n",
    "\n",
    "data = pd.read_csv('/kaggle/input/digit-recognizer/train.csv')"
   ]
  },
  {
   "cell_type": "code",
   "execution_count": null,
   "metadata": {
    "execution": {
     "iopub.status.busy": "2024-11-16T21:49:48.746162Z",
     "iopub.status.idle": "2024-11-16T21:49:48.746714Z",
     "shell.execute_reply": "2024-11-16T21:49:48.746415Z"
    },
    "trusted": true
   },
   "outputs": [],
   "source": [
    "data"
   ]
  },
  {
   "cell_type": "code",
   "execution_count": null,
   "metadata": {
    "execution": {
     "iopub.status.busy": "2024-11-16T21:49:48.748106Z",
     "iopub.status.idle": "2024-11-16T21:49:48.748665Z",
     "shell.execute_reply": "2024-11-16T21:49:48.748350Z"
    },
    "trusted": true
   },
   "outputs": [],
   "source": [
    "data = np.array(data)\n",
    "m, n = data.shape\n",
    "m, n"
   ]
  },
  {
   "cell_type": "code",
   "execution_count": null,
   "metadata": {
    "execution": {
     "iopub.status.busy": "2024-11-16T21:49:48.749925Z",
     "iopub.status.idle": "2024-11-16T21:49:48.750455Z",
     "shell.execute_reply": "2024-11-16T21:49:48.750175Z"
    },
    "trusted": true
   },
   "outputs": [],
   "source": [
    "number_of_tests = int(m * 0.3)\n",
    "\n",
    "np.random.shuffle(data) # shuffle before splitting into test and training sets\n",
    "\n",
    "test_data = data[0:number_of_tests].T\n",
    "Y_test = test_data[0]\n",
    "X_test = test_data[1:n]\n",
    "X_test = X_test / 255.0\n",
    "\n",
    "train_data = data[number_of_tests:m].T\n",
    "Y_train = train_data[0]\n",
    "X_train = train_data[1:n]\n",
    "X_train = X_train / 255.0"
   ]
  },
  {
   "cell_type": "code",
   "execution_count": 35,
   "metadata": {
    "execution": {
     "iopub.execute_input": "2024-11-16T21:49:50.963506Z",
     "iopub.status.busy": "2024-11-16T21:49:50.963114Z",
     "iopub.status.idle": "2024-11-16T21:49:51.008189Z",
     "shell.execute_reply": "2024-11-16T21:49:51.006888Z",
     "shell.execute_reply.started": "2024-11-16T21:49:50.963473Z"
    },
    "trusted": true
   },
   "outputs": [],
   "source": [
    "def init_params():\n",
    "    W1 = np.random.randn(100, 784) * np.sqrt(2 / 784)\n",
    "    B1 = np.zeros((100, 1))\n",
    "    W2 = np.random.randn(100, 100) * np.sqrt(2 / 10) \n",
    "    B2 = np.zeros((100, 1))\n",
    "    W3 = np.random.randn(10, 100) * np.sqrt(2 / 10) \n",
    "    B3 = np.zeros((10, 1))\n",
    "    return W1, B1, W2, B2, W3, B3\n",
    "\n",
    "def ReLU(Z):\n",
    "    return np.maximum(Z, 0)\n",
    "\n",
    "def softmax(Z):\n",
    "    expZ = np.exp(Z - np.max(Z, axis=0, keepdims=True))\n",
    "    return expZ / np.sum(expZ, axis=0, keepdims=True)\n",
    "    \n",
    "def forward_propagation(W1, B1, W2, B2, W3, B3, X):\n",
    "    Z1 = W1.dot(X) + B1\n",
    "    A1 = ReLU(Z1)\n",
    "    Z2 = W2.dot(A1) + B2\n",
    "    A2 = ReLU(Z2)\n",
    "    Z3 = W3.dot(A2) + B3\n",
    "    A3 = softmax(Z3)\n",
    "    return Z1, A1, Z2, A2, Z3, A3\n",
    "\n",
    "def derivative_of_ReLU(Z):\n",
    "    return Z > 0\n",
    "\n",
    "def one_hot(Y):\n",
    "    one_hot_Y = np.zeros((Y.size, Y.max() + 1))\n",
    "    one_hot_Y[np.arange(Y.size), Y] = 1\n",
    "    return one_hot_Y.T\n",
    "\n",
    "def backward_propagation(Z1, A1, Z2, A2, Z3, A3, W1, W2, W3, X, Y):\n",
    "    dZ3 = A3 - Y\n",
    "    dW3 = 1 / m * dZ3.dot(A2.T) + W3\n",
    "    dB3 = 1 / m * np.sum(dZ3)\n",
    "    \n",
    "    dZ2 = W3.T.dot(dZ3) * derivative_of_ReLU(Z2)\n",
    "    dW2 = 1 / m * dZ2.dot(A1.T) + W2\n",
    "    dB2 = 1 / m * np.sum(dZ2)\n",
    "    \n",
    "    dZ1 = W2.T.dot(dZ2) * derivative_of_ReLU(Z1)\n",
    "    dW1 = 1 / m * dZ1.dot(X.T) + W1\n",
    "    dB1 = 1 / m * np.sum(dZ1)\n",
    "    \n",
    "    return dW1, dB1, dW2, dB2, dW3, dB3\n",
    "\n",
    "def update_params(W1, B1, W2, B2, W3, B3, dW1, dB1, dW2, dB2, dW3, dB3, LR):\n",
    "    W1 = W1 - LR * dW1\n",
    "    B1 = B1 - LR * dB1    \n",
    "    W2 = W2 - LR * dW2  \n",
    "    B2 = B2 - LR * dB2\n",
    "    W3 = W3 - LR * dW3  \n",
    "    B3 = B3 - LR * dB3\n",
    "    return W1, B1, W2, B2, W3, B3\n",
    "\n",
    "def get_predictions(A):\n",
    "    return np.argmax(A, 0)\n",
    "\n",
    "def get_accuracy(predictions, Y):\n",
    "    return np.sum(predictions == Y) / Y.size\n",
    "\n",
    "def gradient_descent(X, Y, LR, iterations):\n",
    "    W1, B1, W2, B2, W3, B3 = init_params()\n",
    "    one_hot_Y = one_hot(Y)\n",
    "    \n",
    "    for i in range(iterations + 1):\n",
    "        Z1, A1, Z2, A2, Z3, A3 = forward_propagation(W1, B1, W2, B2, W3, B3, X)\n",
    "        dW1, dB1, dW2, dB2, dW3, dB3 = backward_propagation(Z1, A1, Z2, A2, Z3, A3, W1, W2, W3, X, one_hot_Y)\n",
    "        W1, B1, W2, B2, W3, B3 = update_params(W1, B1, W2, B2, W3, B3, dW1, dB1, dW2, dB2, dW3, dB3, LR)\n",
    "\n",
    "        if i % 10 == 0:\n",
    "            print(\"Iteration: \", i)\n",
    "            predictions = get_predictions(A3)\n",
    "            print(get_accuracy(predictions, Y))\n",
    "\n",
    "    return W1, B1, W2, B2, W3, B3"
   ]
  },
  {
   "cell_type": "code",
   "execution_count": 41,
   "metadata": {
    "execution": {
     "iopub.execute_input": "2024-11-16T22:14:03.221143Z",
     "iopub.status.busy": "2024-11-16T22:14:03.220019Z",
     "iopub.status.idle": "2024-11-16T22:15:28.211222Z",
     "shell.execute_reply": "2024-11-16T22:15:28.210072Z",
     "shell.execute_reply.started": "2024-11-16T22:14:03.221072Z"
    },
    "trusted": true
   },
   "outputs": [
    {
     "name": "stdout",
     "output_type": "stream",
     "text": [
      "Iteration:  0\n",
      "0.065\n",
      "Iteration:  10\n",
      "0.15404761904761904\n",
      "Iteration:  20\n",
      "0.25666666666666665\n",
      "Iteration:  30\n",
      "0.332108843537415\n",
      "Iteration:  40\n",
      "0.48741496598639455\n",
      "Iteration:  50\n",
      "0.5715986394557823\n",
      "Iteration:  60\n",
      "0.606156462585034\n",
      "Iteration:  70\n",
      "0.6463265306122449\n",
      "Iteration:  80\n",
      "0.697687074829932\n",
      "Iteration:  90\n",
      "0.7402380952380953\n",
      "Iteration:  100\n",
      "0.7624149659863946\n",
      "Iteration:  110\n",
      "0.7777891156462585\n",
      "Iteration:  120\n",
      "0.79\n",
      "Iteration:  130\n",
      "0.8008503401360544\n",
      "Iteration:  140\n",
      "0.8091496598639456\n",
      "Iteration:  150\n",
      "0.8182993197278912\n",
      "Iteration:  160\n",
      "0.8249319727891157\n",
      "Iteration:  170\n",
      "0.8310884353741497\n",
      "Iteration:  180\n",
      "0.8364965986394558\n",
      "Iteration:  190\n",
      "0.8407142857142857\n",
      "Iteration:  200\n",
      "0.8447959183673469\n",
      "Iteration:  210\n",
      "0.8485034013605443\n",
      "Iteration:  220\n",
      "0.8517687074829932\n",
      "Iteration:  230\n",
      "0.8549659863945578\n",
      "Iteration:  240\n",
      "0.8573469387755102\n",
      "Iteration:  250\n",
      "0.8600680272108844\n",
      "Iteration:  260\n",
      "0.8625850340136054\n",
      "Iteration:  270\n",
      "0.865204081632653\n",
      "Iteration:  280\n",
      "0.8680952380952381\n",
      "Iteration:  290\n",
      "0.8697619047619047\n",
      "Iteration:  300\n",
      "0.8714965986394558\n",
      "Iteration:  310\n",
      "0.8738095238095238\n",
      "Iteration:  320\n",
      "0.8756802721088436\n",
      "Iteration:  330\n",
      "0.8774149659863946\n",
      "Iteration:  340\n",
      "0.8790136054421769\n",
      "Iteration:  350\n",
      "0.8804081632653061\n",
      "Iteration:  360\n",
      "0.8819727891156462\n",
      "Iteration:  370\n",
      "0.8834353741496599\n",
      "Iteration:  380\n",
      "0.8851700680272109\n",
      "Iteration:  390\n",
      "0.8865986394557823\n",
      "Iteration:  400\n",
      "0.8879591836734694\n",
      "Iteration:  410\n",
      "0.8889795918367347\n",
      "Iteration:  420\n",
      "0.8903401360544217\n",
      "Iteration:  430\n",
      "0.8919387755102041\n",
      "Iteration:  440\n",
      "0.8927210884353741\n",
      "Iteration:  450\n",
      "0.8934353741496599\n",
      "Iteration:  460\n",
      "0.8944557823129252\n",
      "Iteration:  470\n",
      "0.8952380952380953\n",
      "Iteration:  480\n",
      "0.8963265306122449\n",
      "Iteration:  490\n",
      "0.8973809523809524\n",
      "Iteration:  500\n",
      "0.8981632653061224\n",
      "Iteration:  510\n",
      "0.8990816326530612\n",
      "Iteration:  520\n",
      "0.9\n",
      "Iteration:  530\n",
      "0.9008843537414966\n",
      "Iteration:  540\n",
      "0.9016666666666666\n",
      "Iteration:  550\n",
      "0.9025510204081633\n",
      "Iteration:  560\n",
      "0.9034013605442177\n",
      "Iteration:  570\n",
      "0.9042517006802722\n",
      "Iteration:  580\n",
      "0.9052380952380953\n",
      "Iteration:  590\n",
      "0.9057482993197279\n",
      "Iteration:  600\n",
      "0.9062244897959184\n",
      "Iteration:  610\n",
      "0.9069047619047619\n",
      "Iteration:  620\n",
      "0.9070748299319727\n",
      "Iteration:  630\n",
      "0.9076190476190477\n",
      "Iteration:  640\n",
      "0.9082653061224489\n",
      "Iteration:  650\n",
      "0.9087414965986395\n",
      "Iteration:  660\n",
      "0.9094557823129251\n",
      "Iteration:  670\n",
      "0.9097619047619048\n",
      "Iteration:  680\n",
      "0.9101700680272109\n",
      "Iteration:  690\n",
      "0.9107142857142857\n",
      "Iteration:  700\n",
      "0.9110544217687074\n",
      "Iteration:  710\n",
      "0.9114965986394558\n",
      "Iteration:  720\n",
      "0.9119727891156463\n",
      "Iteration:  730\n",
      "0.9124149659863946\n",
      "Iteration:  740\n",
      "0.9128571428571428\n",
      "Iteration:  750\n",
      "0.9132312925170069\n",
      "Iteration:  760\n",
      "0.9136394557823129\n",
      "Iteration:  770\n",
      "0.914047619047619\n",
      "Iteration:  780\n",
      "0.9144557823129251\n",
      "Iteration:  790\n",
      "0.9151020408163265\n",
      "Iteration:  800\n",
      "0.915374149659864\n",
      "Iteration:  810\n",
      "0.9159863945578232\n",
      "Iteration:  820\n",
      "0.9163605442176871\n",
      "Iteration:  830\n",
      "0.9165986394557823\n",
      "Iteration:  840\n",
      "0.9170068027210885\n",
      "Iteration:  850\n",
      "0.9174829931972789\n",
      "Iteration:  860\n",
      "0.9176530612244898\n",
      "Iteration:  870\n",
      "0.9177891156462585\n",
      "Iteration:  880\n",
      "0.9183333333333333\n",
      "Iteration:  890\n",
      "0.918469387755102\n",
      "Iteration:  900\n",
      "0.9187755102040817\n",
      "Iteration:  910\n",
      "0.9189795918367347\n",
      "Iteration:  920\n",
      "0.919421768707483\n",
      "Iteration:  930\n",
      "0.9197278911564626\n",
      "Iteration:  940\n",
      "0.9198979591836735\n",
      "Iteration:  950\n",
      "0.9201700680272109\n",
      "Iteration:  960\n",
      "0.920374149659864\n",
      "Iteration:  970\n",
      "0.9207142857142857\n",
      "Iteration:  980\n",
      "0.9208503401360544\n",
      "Iteration:  990\n",
      "0.9208843537414966\n",
      "Iteration:  1000\n",
      "0.9212925170068027\n"
     ]
    }
   ],
   "source": [
    "W1, B1, W2, B2, W3, B3 = gradient_descent(X_train, Y_train, 0.1, 1000)"
   ]
  },
  {
   "cell_type": "code",
   "execution_count": 37,
   "metadata": {
    "execution": {
     "iopub.execute_input": "2024-11-16T21:50:36.493466Z",
     "iopub.status.busy": "2024-11-16T21:50:36.492924Z",
     "iopub.status.idle": "2024-11-16T21:50:36.505866Z",
     "shell.execute_reply": "2024-11-16T21:50:36.504833Z",
     "shell.execute_reply.started": "2024-11-16T21:50:36.493412Z"
    },
    "trusted": true
   },
   "outputs": [],
   "source": [
    "def make_predictions(X, W1, B1, W2, B2, W3, B3):\n",
    "    _, _, _, _, _, A3 = forward_propagation(W1, B1, W2, B2, W3, B3, X)\n",
    "    predictions = get_predictions(A3)\n",
    "    return predictions"
   ]
  },
  {
   "cell_type": "code",
   "execution_count": 42,
   "metadata": {
    "execution": {
     "iopub.execute_input": "2024-11-16T22:15:28.214193Z",
     "iopub.status.busy": "2024-11-16T22:15:28.213825Z",
     "iopub.status.idle": "2024-11-16T22:15:28.252140Z",
     "shell.execute_reply": "2024-11-16T22:15:28.250556Z",
     "shell.execute_reply.started": "2024-11-16T22:15:28.214158Z"
    },
    "trusted": true
   },
   "outputs": [
    {
     "data": {
      "text/plain": [
       "0.907063492063492"
      ]
     },
     "execution_count": 42,
     "metadata": {},
     "output_type": "execute_result"
    }
   ],
   "source": [
    "test_predictions = make_predictions(X_test, W1, B1, W2, B2, W3, B3)\n",
    "get_accuracy(test_predictions, Y_test)"
   ]
  }
 ],
 "metadata": {
  "kaggle": {
   "accelerator": "none",
   "dataSources": [
    {
     "databundleVersionId": 861823,
     "sourceId": 3004,
     "sourceType": "competition"
    }
   ],
   "dockerImageVersionId": 30035,
   "isGpuEnabled": false,
   "isInternetEnabled": true,
   "language": "python",
   "sourceType": "notebook"
  },
  "kernelspec": {
   "display_name": "Python 3",
   "language": "python",
   "name": "python3"
  },
  "language_info": {
   "codemirror_mode": {
    "name": "ipython",
    "version": 3
   },
   "file_extension": ".py",
   "mimetype": "text/x-python",
   "name": "python",
   "nbconvert_exporter": "python",
   "pygments_lexer": "ipython3",
   "version": "3.7.6"
  }
 },
 "nbformat": 4,
 "nbformat_minor": 4
}
